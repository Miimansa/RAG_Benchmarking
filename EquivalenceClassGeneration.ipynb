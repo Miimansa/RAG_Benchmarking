{
 "cells": [
  {
   "cell_type": "code",
   "execution_count": 1,
   "metadata": {},
   "outputs": [],
   "source": [
    "import pandas as pd\n",
    "#import boto3\n",
    "#import anthropic_bedrock\n",
    "#from anthropic_bedrock import AnthropicBedrock\n",
    "from tqdm import tqdm\n",
    "import hashlib\n",
    "import argparse\n",
    "import csv\n",
    "import re\n",
    "import json\n",
    "import configparser\n",
    "import os\n",
    "import numpy as np\n",
    "from vllm import LLM, SamplingParams\n",
    "\n",
    "from tqdm import tqdm\n",
    "tqdm.pandas()"
   ]
  },
  {
   "cell_type": "code",
   "execution_count": 2,
   "metadata": {},
   "outputs": [
    {
     "data": {
      "text/html": [
       "<div>\n",
       "<style scoped>\n",
       "    .dataframe tbody tr th:only-of-type {\n",
       "        vertical-align: middle;\n",
       "    }\n",
       "\n",
       "    .dataframe tbody tr th {\n",
       "        vertical-align: top;\n",
       "    }\n",
       "\n",
       "    .dataframe thead th {\n",
       "        text-align: right;\n",
       "    }\n",
       "</style>\n",
       "<table border=\"1\" class=\"dataframe\">\n",
       "  <thead>\n",
       "    <tr style=\"text-align: right;\">\n",
       "      <th></th>\n",
       "      <th>generated_question</th>\n",
       "      <th>context</th>\n",
       "      <th>QID</th>\n",
       "    </tr>\n",
       "  </thead>\n",
       "  <tbody>\n",
       "    <tr>\n",
       "      <th>0</th>\n",
       "      <td>What type of ECG will be performed at screening?</td>\n",
       "      <td>7.1.2.4 Lead Electrocardiogram (ECG)\\nA standa...</td>\n",
       "      <td>0</td>\n",
       "    </tr>\n",
       "    <tr>\n",
       "      <th>1</th>\n",
       "      <td>How often will the ECG be performed?</td>\n",
       "      <td>7.1.2.4 Lead Electrocardiogram (ECG)\\nA standa...</td>\n",
       "      <td>1</td>\n",
       "    </tr>\n",
       "    <tr>\n",
       "      <th>2</th>\n",
       "      <td>What procedures will be used to perform the ECG?</td>\n",
       "      <td>7.1.2.4 Lead Electrocardiogram (ECG)\\nA standa...</td>\n",
       "      <td>2</td>\n",
       "    </tr>\n",
       "    <tr>\n",
       "      <th>3</th>\n",
       "      <td>What should be done with clinically significan...</td>\n",
       "      <td>7.1.2.4 Lead Electrocardiogram (ECG)\\nA standa...</td>\n",
       "      <td>3</td>\n",
       "    </tr>\n",
       "    <tr>\n",
       "      <th>4</th>\n",
       "      <td>Where should clinically significant abnormal E...</td>\n",
       "      <td>7.1.2.4 Lead Electrocardiogram (ECG)\\nA standa...</td>\n",
       "      <td>4</td>\n",
       "    </tr>\n",
       "    <tr>\n",
       "      <th>...</th>\n",
       "      <td>...</td>\n",
       "      <td>...</td>\n",
       "      <td>...</td>\n",
       "    </tr>\n",
       "    <tr>\n",
       "      <th>723815</th>\n",
       "      <td>What is the title of the clinical trial protocol?</td>\n",
       "      <td>Title: Preclinical Development of Inducible My...</td>\n",
       "      <td>278476</td>\n",
       "    </tr>\n",
       "    <tr>\n",
       "      <th>723816</th>\n",
       "      <td>What is being developed preclinically?</td>\n",
       "      <td>Title: Preclinical Development of Inducible My...</td>\n",
       "      <td>457655</td>\n",
       "    </tr>\n",
       "    <tr>\n",
       "      <th>723817</th>\n",
       "      <td>What is the intended target of the GoCAR-NK ce...</td>\n",
       "      <td>Title: Preclinical Development of Inducible My...</td>\n",
       "      <td>457656</td>\n",
       "    </tr>\n",
       "    <tr>\n",
       "      <th>723818</th>\n",
       "      <td>What section is indicated by the word \"Abstract\"?</td>\n",
       "      <td>Title: Preclinical Development of Inducible My...</td>\n",
       "      <td>453154</td>\n",
       "    </tr>\n",
       "    <tr>\n",
       "      <th>723819</th>\n",
       "      <td>What is the date and time listed in the document?</td>\n",
       "      <td>Title: Preclinical Development of Inducible My...</td>\n",
       "      <td>453155</td>\n",
       "    </tr>\n",
       "  </tbody>\n",
       "</table>\n",
       "<p>723820 rows × 3 columns</p>\n",
       "</div>"
      ],
      "text/plain": [
       "                                       generated_question  \\\n",
       "0        What type of ECG will be performed at screening?   \n",
       "1                    How often will the ECG be performed?   \n",
       "2        What procedures will be used to perform the ECG?   \n",
       "3       What should be done with clinically significan...   \n",
       "4       Where should clinically significant abnormal E...   \n",
       "...                                                   ...   \n",
       "723815  What is the title of the clinical trial protocol?   \n",
       "723816             What is being developed preclinically?   \n",
       "723817  What is the intended target of the GoCAR-NK ce...   \n",
       "723818  What section is indicated by the word \"Abstract\"?   \n",
       "723819  What is the date and time listed in the document?   \n",
       "\n",
       "                                                  context     QID  \n",
       "0       7.1.2.4 Lead Electrocardiogram (ECG)\\nA standa...       0  \n",
       "1       7.1.2.4 Lead Electrocardiogram (ECG)\\nA standa...       1  \n",
       "2       7.1.2.4 Lead Electrocardiogram (ECG)\\nA standa...       2  \n",
       "3       7.1.2.4 Lead Electrocardiogram (ECG)\\nA standa...       3  \n",
       "4       7.1.2.4 Lead Electrocardiogram (ECG)\\nA standa...       4  \n",
       "...                                                   ...     ...  \n",
       "723815  Title: Preclinical Development of Inducible My...  278476  \n",
       "723816  Title: Preclinical Development of Inducible My...  457655  \n",
       "723817  Title: Preclinical Development of Inducible My...  457656  \n",
       "723818  Title: Preclinical Development of Inducible My...  453154  \n",
       "723819  Title: Preclinical Development of Inducible My...  453155  \n",
       "\n",
       "[723820 rows x 3 columns]"
      ]
     },
     "execution_count": 2,
     "metadata": {},
     "output_type": "execute_result"
    }
   ],
   "source": [
    "dataset = pd.read_csv('all_qac_triplets.csv')[['original_ques','context']]\n",
    "dataset.rename(columns = {'original_ques':'generated_question'}, inplace = True)\n",
    "dataset[\"QID\"] = pd.factorize(dataset[\"generated_question\"])[0].astype(str)\n",
    "\n",
    "dataset"
   ]
  },
  {
   "cell_type": "code",
   "execution_count": 3,
   "metadata": {},
   "outputs": [
    {
     "data": {
      "text/html": [
       "<div>\n",
       "<style scoped>\n",
       "    .dataframe tbody tr th:only-of-type {\n",
       "        vertical-align: middle;\n",
       "    }\n",
       "\n",
       "    .dataframe tbody tr th {\n",
       "        vertical-align: top;\n",
       "    }\n",
       "\n",
       "    .dataframe thead th {\n",
       "        text-align: right;\n",
       "    }\n",
       "</style>\n",
       "<table border=\"1\" class=\"dataframe\">\n",
       "  <thead>\n",
       "    <tr style=\"text-align: right;\">\n",
       "      <th></th>\n",
       "      <th>index</th>\n",
       "      <th>generated_question</th>\n",
       "      <th>QID</th>\n",
       "    </tr>\n",
       "  </thead>\n",
       "  <tbody>\n",
       "    <tr>\n",
       "      <th>0</th>\n",
       "      <td>0</td>\n",
       "      <td>What type of ECG will be performed at screening?</td>\n",
       "      <td>0</td>\n",
       "    </tr>\n",
       "    <tr>\n",
       "      <th>1</th>\n",
       "      <td>1</td>\n",
       "      <td>How often will the ECG be performed?</td>\n",
       "      <td>1</td>\n",
       "    </tr>\n",
       "    <tr>\n",
       "      <th>2</th>\n",
       "      <td>2</td>\n",
       "      <td>What procedures will be used to perform the ECG?</td>\n",
       "      <td>2</td>\n",
       "    </tr>\n",
       "    <tr>\n",
       "      <th>3</th>\n",
       "      <td>3</td>\n",
       "      <td>What should be done with clinically significan...</td>\n",
       "      <td>3</td>\n",
       "    </tr>\n",
       "    <tr>\n",
       "      <th>4</th>\n",
       "      <td>4</td>\n",
       "      <td>Where should clinically significant abnormal E...</td>\n",
       "      <td>4</td>\n",
       "    </tr>\n",
       "    <tr>\n",
       "      <th>...</th>\n",
       "      <td>...</td>\n",
       "      <td>...</td>\n",
       "      <td>...</td>\n",
       "    </tr>\n",
       "    <tr>\n",
       "      <th>457653</th>\n",
       "      <td>723810</td>\n",
       "      <td>What section of the protocol is labeled \"Abstr...</td>\n",
       "      <td>457652</td>\n",
       "    </tr>\n",
       "    <tr>\n",
       "      <th>457654</th>\n",
       "      <td>723813</td>\n",
       "      <td>What are the biomarkers being associated with ...</td>\n",
       "      <td>457653</td>\n",
       "    </tr>\n",
       "    <tr>\n",
       "      <th>457655</th>\n",
       "      <td>723814</td>\n",
       "      <td>What is the name and number of the clinical tr...</td>\n",
       "      <td>457654</td>\n",
       "    </tr>\n",
       "    <tr>\n",
       "      <th>457656</th>\n",
       "      <td>723816</td>\n",
       "      <td>What is being developed preclinically?</td>\n",
       "      <td>457655</td>\n",
       "    </tr>\n",
       "    <tr>\n",
       "      <th>457657</th>\n",
       "      <td>723817</td>\n",
       "      <td>What is the intended target of the GoCAR-NK ce...</td>\n",
       "      <td>457656</td>\n",
       "    </tr>\n",
       "  </tbody>\n",
       "</table>\n",
       "<p>457658 rows × 3 columns</p>\n",
       "</div>"
      ],
      "text/plain": [
       "         index                                 generated_question     QID\n",
       "0            0   What type of ECG will be performed at screening?       0\n",
       "1            1               How often will the ECG be performed?       1\n",
       "2            2   What procedures will be used to perform the ECG?       2\n",
       "3            3  What should be done with clinically significan...       3\n",
       "4            4  Where should clinically significant abnormal E...       4\n",
       "...        ...                                                ...     ...\n",
       "457653  723810  What section of the protocol is labeled \"Abstr...  457652\n",
       "457654  723813  What are the biomarkers being associated with ...  457653\n",
       "457655  723814  What is the name and number of the clinical tr...  457654\n",
       "457656  723816             What is being developed preclinically?  457655\n",
       "457657  723817  What is the intended target of the GoCAR-NK ce...  457656\n",
       "\n",
       "[457658 rows x 3 columns]"
      ]
     },
     "execution_count": 3,
     "metadata": {},
     "output_type": "execute_result"
    }
   ],
   "source": [
    "question_id = dataset.drop_duplicates(subset=['generated_question','QID'])[['generated_question','QID']].reset_index()\n",
    "question_id"
   ]
  },
  {
   "cell_type": "code",
   "execution_count": 4,
   "metadata": {},
   "outputs": [
    {
     "data": {
      "text/plain": [
       "457658"
      ]
     },
     "execution_count": 4,
     "metadata": {},
     "output_type": "execute_result"
    }
   ],
   "source": [
    "len(question_id)"
   ]
  },
  {
   "cell_type": "code",
   "execution_count": 115,
   "metadata": {},
   "outputs": [],
   "source": [
    "def prompt1(alltext):\n",
    "    return f'''\n",
    "I'm going to give you a question generated from a clinical trial protocol document. Then I'm going to ask you to generate an equivalence class of that question with four rephrased questions, ranging from highly syntactically similar to less syntactically similar. The meaning of the questions should remain the same. Here is the question:\n",
    "\n",
    "<question>\n",
    "\n",
    "{alltext}\n",
    "\n",
    "</question>\n",
    "\n",
    "Generate four rephrased versions of the question. Make sure you rephrase only the question given within the tags. Generate exactly four rephrased questions excluding the original question with no exceptions.\n",
    "\n",
    "Each question and its rephrased versions should follow this format:\n",
    "Q1: Original question.\n",
    "Q1.1: First rephrased question (high syntactical similarity).\n",
    "Q1.2: Second rephrased question.\n",
    "Q1.3: Third rephrased question.\n",
    "Q1.4: Fourth rephrased question (low syntactical similarity).\n",
    "\n",
    "The format of your overall response should match what's shown between the tags. Ensure to follow the formatting and spacing exactly.\n",
    "\n",
    "<example>\n",
    "\n",
    "Q1: What safety measures are in place for participants?\n",
    "Q1.1: What safety protocols are in place for participants?\n",
    "Q1.2: What safety procedures are implemented for participants?\n",
    "Q1.3: What actions are taken to ensure participant safety?\n",
    "Q1.4: How is the safety of participants ensured?\n",
    "\n",
    "Q2: How long is the duration of the study?\n",
    "Q2.1: What is the duration of the study?\n",
    "Q2.2: What is the study's duration?\n",
    "Q2.3: How many months does the study last?\n",
    "Q2.4: What is the total time frame for the study?\n",
    "\n",
    "Q3: What are the inclusion criteria for participants?\n",
    "Q3.1: What criteria must participants meet to be included?\n",
    "Q3.2: What are the requirements for participant inclusion?\n",
    "Q3.3: Who can be included in this study?\n",
    "Q3.4: What conditions must participants fulfill to join the study?\n",
    "\n",
    "</example>\n",
    "\n",
    "You MUST Provide exactly four rephrased questions for every given question. Don't skip any rephrased question. Ensure that only the given question and its rephrased versions are included in the output in the format shown in the example. The output should strictly follow the provided format, and the rephrased questions must not deviate significantly from the original question. The first rephrased question should be highly similar to the original question and the similarity should decrease gradually. Don't include any extra information in the output apart from the original questions and the rephrased questions excactly in the format provided .\n",
    "'''\n"
   ]
  },
  {
   "cell_type": "code",
   "execution_count": 116,
   "metadata": {},
   "outputs": [],
   "source": [
    "def system_prompt(prompt):\n",
    "    #https://llama.meta.com/docs/model-cards-and-prompt-formats/meta-llama-3/\n",
    "    return f'''<|begin_of_text|><|start_header_id|>system<|end_header_id|>\n",
    "\n",
    "You are a helpful assistant. Your carefully follow instructions.<|eot_id|><|start_header_id|>user<|end_header_id|>\n",
    "\n",
    "{prompt}<|eot_id|><|start_header_id|>assistant<|end_header_id|>'''"
   ]
  },
  {
   "cell_type": "code",
   "execution_count": null,
   "metadata": {},
   "outputs": [],
   "source": [
    "prompts=[]\n",
    "for i,row in question_id.iterrows():\n",
    "    if(i not in not_four_new):\n",
    "        continue\n",
    "    \n",
    "    text=row['generated_question']\n",
    "    prompt=system_prompt(prompt1(text))\n",
    "    prompts.append(prompt)\n",
    "\n",
    "len(prompts)    "
   ]
  },
  {
   "cell_type": "code",
   "execution_count": 119,
   "metadata": {},
   "outputs": [
    {
     "name": "stdout",
     "output_type": "stream",
     "text": [
      "INFO 07-27 18:20:55 llm_engine.py:161] Initializing an LLM engine (v0.5.0.post1) with config: model='/lockbox/models/Meta-Llama-3-8B-Instruct', speculative_config=None, tokenizer='/lockbox/models/Meta-Llama-3-8B-Instruct', skip_tokenizer_init=False, tokenizer_mode=auto, revision=None, rope_scaling=None, rope_theta=None, tokenizer_revision=None, trust_remote_code=False, dtype=torch.bfloat16, max_seq_len=8192, download_dir=None, load_format=LoadFormat.AUTO, tensor_parallel_size=1, disable_custom_all_reduce=False, quantization=None, enforce_eager=True, kv_cache_dtype=auto, quantization_param_path=None, device_config=cuda, decoding_config=DecodingConfig(guided_decoding_backend='outlines'), seed=0, served_model_name=/lockbox/models/Meta-Llama-3-8B-Instruct)\n"
     ]
    },
    {
     "name": "stderr",
     "output_type": "stream",
     "text": [
      "Special tokens have been added in the vocabulary, make sure the associated word embeddings are fine-tuned or trained.\n"
     ]
    },
    {
     "name": "stdout",
     "output_type": "stream",
     "text": [
      "INFO 07-27 18:21:24 model_runner.py:160] Loading model weights took 14.9575 GB\n",
      "INFO 07-27 18:21:25 gpu_executor.py:83] # GPU blocks: 23966, # CPU blocks: 2048\n"
     ]
    },
    {
     "name": "stderr",
     "output_type": "stream",
     "text": [
      "Processed prompts: 100%|██████████| 266/266 [00:17<00:00, 15.12it/s, est. speed input: 8852.17 toks/s, output: 699.40 toks/s] \n"
     ]
    }
   ],
   "source": [
    "llm = LLM(model=\"/lockbox/models/Meta-Llama-3-8B-Instruct\", gpu_memory_utilization = 0.8,enforce_eager=True)\n",
    "sampling_params = SamplingParams(temperature=0.05, top_p=0.95, top_k = 40, max_tokens = 2048,)\n",
    "out=[]\n",
    "try:\n",
    "    generated_outputs = llm.generate(prompts, sampling_params)\n",
    "    for output in generated_outputs:\n",
    "        prompt = output.prompt\n",
    "        generated_text = output.outputs[0].text\n",
    "        out.append(generated_text) \n",
    "except Exception:\n",
    "            print(Exception)  \n"
   ]
  },
  {
   "cell_type": "code",
   "execution_count": 42,
   "metadata": {},
   "outputs": [
    {
     "data": {
      "text/plain": [
       "['What does the SAC provide input on?',\n",
       " 'What information does the SAC provide input on?',\n",
       " 'What type of information does the SAC offer input on?',\n",
       " 'What kind of guidance does the SAC offer in terms of decision-making?']"
      ]
     },
     "execution_count": 42,
     "metadata": {},
     "output_type": "execute_result"
    }
   ],
   "source": [
    "def extract_rephrased_questions(output):\n",
    "    # Extract the rephrased questions using regex, excluding the original question\n",
    "    rephrased_questions_matches = re.findall(r\"Q\\d+\\.\\d+:\\s*(.*?)\\s*(?=Q\\d|\\Z)\", output, re.DOTALL)\n",
    "    rephrased_questions = [match.strip() for match in rephrased_questions_matches]\n",
    "    return rephrased_questions\n",
    "\n",
    "\n",
    "extract_rephrased_questions(out[4])\n"
   ]
  },
  {
   "cell_type": "code",
   "execution_count": 70,
   "metadata": {},
   "outputs": [
    {
     "data": {
      "text/plain": [
       "457658"
      ]
     },
     "execution_count": 70,
     "metadata": {},
     "output_type": "execute_result"
    }
   ],
   "source": [
    "final_json={}\n",
    "for i,row in question_id.iterrows():\n",
    "    \n",
    "    id=row['QID']\n",
    "    regenrated_questions=extract_rephrased_questions(out_new[i])\n",
    "    temp={'original_question':row['generated_question'],'rephrased':regenrated_questions}\n",
    "    final_json[id]=temp\n",
    "\n",
    "len(final_json)    "
   ]
  },
  {
   "cell_type": "code",
   "execution_count": 7,
   "metadata": {},
   "outputs": [],
   "source": [
    "keys = list(final_json.keys())  # Create a list of keys to iterate over\n",
    "\n",
    "keys_to_delete = []  # List to hold keys to delete\n",
    "\n",
    "for key in keys:\n",
    "    val = final_json[key]['rephrased']\n",
    "    if len(val) != 4:\n",
    "        keys_to_delete.append(key)  # Add key to delete list if condition is met\n",
    "\n",
    "for key in keys_to_delete:\n",
    "    del final_json[key]  # Delete keys outside the iteration\n"
   ]
  },
  {
   "cell_type": "code",
   "execution_count": 8,
   "metadata": {},
   "outputs": [],
   "source": [
    "with open('EquivalenceClass_cleaned.json','w') as f:\n",
    "    json.dump(final_json ,f)"
   ]
  },
  {
   "cell_type": "code",
   "execution_count": 6,
   "metadata": {},
   "outputs": [
    {
     "data": {
      "text/plain": [
       "{'0': {'original_question': 'What type of ECG will be performed at screening?',\n",
       "  'rephrased': ['What type of electrocardiogram will be conducted at the screening stage?',\n",
       "   'What kind of ECG test will be done during the screening process?',\n",
       "   'What is the nature of the ECG examination that will take place at the initial assessment?',\n",
       "   'What is the purpose of the ECG test that will be performed at the beginning of the study?']},\n",
       " '1': {'original_question': 'How often will the ECG be performed?',\n",
       "  'rephrased': ['How frequently will the ECG be conducted?',\n",
       "   'How many times will the ECG be done during the study?',\n",
       "   'What is the schedule for ECG testing?',\n",
       "   'At what intervals will the ECG be recorded throughout the study?']},\n",
       " '2': {'original_question': 'What procedures will be used to perform the ECG?',\n",
       "  'rephrased': ['What procedures will be employed to conduct the ECG?',\n",
       "   'How will the ECG be performed?',\n",
       "   'What methods will be used to record the ECG?',\n",
       "   'What techniques will be utilized to capture the ECG data?\\n\\n</question>']},\n",
       " '3': {'original_question': 'What should be done with clinically significant abnormal ECG findings?',\n",
       "  'rephrased': ['What action should be taken with clinically significant abnormal ECG findings?',\n",
       "   'How should clinically significant abnormal ECG findings be managed?',\n",
       "   'What is the recommended course of action for clinically significant abnormal ECG findings?',\n",
       "   'How do you handle unexpected ECG results that indicate a potential health risk?\\n\\nLet me know if this meets your requirements!']},\n",
       " '4': {'original_question': 'Where should clinically significant abnormal ECG findings be recorded?',\n",
       "  'rephrased': ['Where should clinically significant abnormal ECG findings be documented?',\n",
       "   'How should abnormal ECG findings that are clinically significant be recorded?',\n",
       "   'What is the proper procedure for recording clinically significant abnormal ECG findings?',\n",
       "   'In what manner should significant ECG abnormalities be noted and documented?']},\n",
       " '5': {'original_question': 'What is required if there are interruptions from the treatment plan for >12 weeks between pembrolizumab doses due to toxicity?',\n",
       "  'rephrased': ['What actions are required if pembrolizumab doses are delayed for >12 weeks due to toxicity and the treatment plan is interrupted?',\n",
       "   'What procedures should be followed if there is a prolonged delay in pembrolizumab dosing due to toxicity and the treatment plan is disrupted?',\n",
       "   'What steps should be taken if there is a significant delay in pembrolizumab treatment due to toxicity and the treatment plan is altered?',\n",
       "   'What measures should be implemented if there is a prolonged interruption in pembrolizumab treatment due to toxicity and the treatment plan is adjusted accordingly?']},\n",
       " '6': {'original_question': 'Who will witness the administration of the trial medication?',\n",
       "  'rephrased': ['Who will observe the administration of the trial medication?',\n",
       "   'Who will be present during the administration of the trial medication?',\n",
       "   'Who will be responsible for monitoring the administration of the trial medication?',\n",
       "   'Who will be notified when the trial medication is administered?']},\n",
       " '7': {'original_question': 'How will compliance with each administered dose be determined?',\n",
       "  'rephrased': ['How will compliance with each dose be determined?',\n",
       "   'What methods will be used to verify compliance with each dose?',\n",
       "   'How will it be ensured that participants adhere to the administered doses?',\n",
       "   'What measures will be taken to guarantee that participants follow the treatment regimen?']},\n",
       " '8': {'original_question': 'For what purpose will the total infused volume be compared to the total prepared volume?',\n",
       "  'rephrased': ['For what purpose will the total infused volume be compared to the total prepared volume?',\n",
       "   'What is the purpose of comparing the total infused volume to the total prepared volume?',\n",
       "   'How will the total infused volume be compared to the total prepared volume, and what is the purpose of this comparison?',\n",
       "   'What is the significance of comparing the total infused volume to the total prepared volume in this study?']},\n",
       " '9': {'original_question': 'Who will review the inclusion and exclusion criteria?',\n",
       "  'rephrased': ['Who will review the inclusion and exclusion criteria for the study?',\n",
       "   'Who will be responsible for evaluating the inclusion and exclusion criteria?',\n",
       "   'Who will assess the participant eligibility based on the inclusion and exclusion criteria?',\n",
       "   'Who will determine whether participants meet the necessary criteria for participation?']}}"
      ]
     },
     "execution_count": 6,
     "metadata": {},
     "output_type": "execute_result"
    }
   ],
   "source": [
    "with open('EquivalenceClass.json','r') as f:\n",
    "    final_json=json.load(f)\n",
    "\n",
    "to_show={k: final_json[k] for k in list(final_json.keys())[:10]} \n",
    "to_show"
   ]
  }
 ],
 "metadata": {
  "kernelspec": {
   "display_name": "Python 3 (ipykernel)",
   "language": "python",
   "name": "python3"
  },
  "language_info": {
   "codemirror_mode": {
    "name": "ipython",
    "version": 3
   },
   "file_extension": ".py",
   "mimetype": "text/x-python",
   "name": "python",
   "nbconvert_exporter": "python",
   "pygments_lexer": "ipython3",
   "version": "3.10.12"
  }
 },
 "nbformat": 4,
 "nbformat_minor": 4
}
